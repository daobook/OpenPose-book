{
 "cells": [
  {
   "cell_type": "code",
   "execution_count": 2,
   "id": "506ad3a4",
   "metadata": {},
   "outputs": [
    {
     "name": "stdout",
     "output_type": "stream",
     "text": [
      "手势识别\n",
      "按 'q' 退出\n",
      "按 'd' 调试\n"
     ]
    }
   ],
   "source": [
    "import cv2\n",
    "import time\n",
    "import numpy as np\n",
    "from joblib import load\n",
    "from mediapipe.python.solutions import drawing_utils, hands\n",
    "\n",
    "print('手势识别')\n",
    "print(\"按 'q' 退出\")\n",
    "print(\"按 'd' 调试\")"
   ]
  },
  {
   "cell_type": "code",
   "execution_count": 3,
   "id": "eeaaed31",
   "metadata": {},
   "outputs": [],
   "source": [
    "debug = False\n",
    "t = 0\n",
    "txt_offset = (-60, 30)\n",
    "\n",
    "# load the models\n",
    "gesture_model = load('./model/gesture_model.pkl')\n",
    "\n",
    "hand_model = hands.Hands(static_image_mode=True,\n",
    "                         min_detection_confidence=0.7,\n",
    "                         min_tracking_confidence=0.7, max_num_hands=4)"
   ]
  },
  {
   "cell_type": "code",
   "execution_count": 4,
   "id": "52c13ac1",
   "metadata": {},
   "outputs": [
    {
     "data": {
      "text/plain": [
       "<mediapipe.python.solutions.hands.Hands at 0x1e329b5c730>"
      ]
     },
     "execution_count": 4,
     "metadata": {},
     "output_type": "execute_result"
    }
   ],
   "source": [
    "hand_model"
   ]
  },
  {
   "cell_type": "code",
   "execution_count": null,
   "id": "4457ca7e",
   "metadata": {},
   "outputs": [],
   "source": []
  }
 ],
 "metadata": {
  "kernelspec": {
   "display_name": "PyTorch",
   "language": "python",
   "name": "torch"
  },
  "language_info": {
   "codemirror_mode": {
    "name": "ipython",
    "version": 3
   },
   "file_extension": ".py",
   "mimetype": "text/x-python",
   "name": "python",
   "nbconvert_exporter": "python",
   "pygments_lexer": "ipython3",
   "version": "3.9.5"
  }
 },
 "nbformat": 4,
 "nbformat_minor": 5
}
