{
 "cells": [
  {
   "cell_type": "code",
   "execution_count": 2,
   "id": "a935f70b",
   "metadata": {},
   "outputs": [
    {
     "name": "stdout",
     "output_type": "stream",
     "text": [
      "手势识别\n",
      "按 'q' 退出\n",
      "按 'd' 调试\n"
     ]
    }
   ],
   "source": [
    "import cv2\n",
    "import time\n",
    "import numpy as np\n",
    "from joblib import load\n",
    "from mediapipe.python.solutions import drawing_utils, hands\n",
    "\n",
    "print('手势识别')\n",
    "print(\"按 'q' 退出\")\n",
    "print(\"按 'd' 调试\")"
   ]
  },
  {
   "cell_type": "code",
   "execution_count": 3,
   "id": "c874f256",
   "metadata": {},
   "outputs": [],
   "source": [
    "debug = False\n",
    "t = 0\n",
    "txt_offset = (-60, 30)\n",
    "\n",
    "# load the models\n",
    "gesture_model = load('./model/gesture_model.pkl')\n",
    "\n",
    "hand_model = hands.Hands(static_image_mode=True,\n",
    "                         min_detection_confidence=0.7,\n",
    "                         min_tracking_confidence=0.7, max_num_hands=4)"
   ]
  },
  {
   "cell_type": "code",
   "execution_count": 18,
   "id": "e1ff44ae",
   "metadata": {},
   "outputs": [],
   "source": [
    "import pyautogui"
   ]
  },
  {
   "cell_type": "code",
   "execution_count": 22,
   "id": "40267ee7",
   "metadata": {},
   "outputs": [],
   "source": [
    "distance = 200\n",
    "while distance > 0:\n",
    "    pyautogui.drag(distance, 0, duration=0.5)   # move right\n",
    "    distance -= 5\n",
    "    pyautogui.drag(0, distance, duration=0.5)   # move down\n",
    "    pyautogui.drag(-distance, 0, duration=0.5)  # move left\n",
    "    distance -= 5\n",
    "    pyautogui.drag(0, -distance, duration=0.5)  # move up"
   ]
  },
  {
   "cell_type": "code",
   "execution_count": null,
   "id": "c0f1a1a2",
   "metadata": {},
   "outputs": [],
   "source": []
  },
  {
   "cell_type": "code",
   "execution_count": null,
   "id": "e1c7c487",
   "metadata": {},
   "outputs": [],
   "source": []
  }
 ],
 "metadata": {
  "kernelspec": {
   "display_name": "PyTorch",
   "language": "python",
   "name": "torch"
  },
  "language_info": {
   "codemirror_mode": {
    "name": "ipython",
    "version": 3
   },
   "file_extension": ".py",
   "mimetype": "text/x-python",
   "name": "python",
   "nbconvert_exporter": "python",
   "pygments_lexer": "ipython3",
   "version": "3.9.5"
  }
 },
 "nbformat": 4,
 "nbformat_minor": 5
}
